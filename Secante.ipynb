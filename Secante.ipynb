{
  "nbformat": 4,
  "nbformat_minor": 0,
  "metadata": {
    "colab": {
      "provenance": [],
      "authorship_tag": "ABX9TyPQ7BgxeDNn/Yc7zQ7ge6FQ",
      "include_colab_link": true
    },
    "kernelspec": {
      "name": "python3",
      "display_name": "Python 3"
    },
    "language_info": {
      "name": "python"
    }
  },
  "cells": [
    {
      "cell_type": "markdown",
      "metadata": {
        "id": "view-in-github",
        "colab_type": "text"
      },
      "source": [
        "<a href=\"https://colab.research.google.com/github/mariapaulav03/Adopciones-Awicha/blob/main/Secante.ipynb\" target=\"_parent\"><img src=\"https://colab.research.google.com/assets/colab-badge.svg\" alt=\"Open In Colab\"/></a>"
      ]
    },
    {
      "cell_type": "code",
      "source": [
        "# @title PROYECTO"
      ],
      "metadata": {
        "id": "Sy1W9MFrjNzl"
      },
      "execution_count": 1,
      "outputs": []
    },
    {
      "cell_type": "code",
      "source": [
        "#@markdown Settings plot <img src=\"https://cdn.pixabay.com/animation/2023/03/19/15/09/15-09-56-389_512.gif\" width=\"20px\">"
      ],
      "metadata": {
        "id": "0nYKMBhYlylj"
      },
      "execution_count": 2,
      "outputs": []
    },
    {
      "cell_type": "code",
      "source": [
        "import numpy as np\n",
        "import matplotlib.pyplot as plt\n",
        "import math\n",
        "from sympy import symbols, lambdify\n",
        "from tabulate import tabulate\n",
        "\n",
        "plt.style.use('dark_background')"
      ],
      "metadata": {
        "id": "ZXCmVqctmYHV"
      },
      "execution_count": 17,
      "outputs": []
    },
    {
      "cell_type": "code",
      "source": [
        "\n",
        "def equation(ecuacion_str):\n",
        "  x_symbol = symbols('x')\n",
        "  x_func = lambdify(x_symbol, ecuacion_str, 'numpy')\n",
        "  return x_func\n"
      ],
      "metadata": {
        "id": "2cy-evbpl9fi"
      },
      "execution_count": 18,
      "outputs": []
    },
    {
      "cell_type": "code",
      "source": [
        "def secant(fun, a, b, tol, steps):\n",
        "  i= 0\n",
        "  er = 1\n",
        "  data = []\n",
        "  while er > tol:\n",
        "        tempa = a\n",
        "        tempb = b\n",
        "        a = b - (fun(b)) / ((fun(a) - fun(b)) / (a - b))\n",
        "        b = tempa\n",
        "        er = abs((a - b) / a)\n",
        "\n",
        "        row = [i, tempa, fun(tempa), tempb, fun(tempb), a, er]\n",
        "        data.append(row)\n",
        "        i += 1\n",
        "\n",
        "        plt.scatter(a, fun(a), color='green', marker=\"*\")\n",
        "        if(er<tol):\n",
        "          return {'fila': data, 'valor': a}\n",
        "\n",
        "#def func(x):\n",
        "  #return math.sin(x)\n",
        "\n",
        "#print(secant(func, 2, 4, 0.0001, 10, 1000000))"
      ],
      "metadata": {
        "id": "4vq9Pf3_ns8P"
      },
      "execution_count": 24,
      "outputs": []
    },
    {
      "cell_type": "code",
      "source": [
        "def runSecant(x_func, x0, x1, tolerancia):\n",
        "  headers = [\"Iteración\", \"Xn-1\", \"f(Xn-1)\", \"Xn-2\", \"f(Xn-2)\", \"Xn\", \"Error relativo\"]\n",
        "  func1 = secant(x_func, x0, x1, tolerancia, 10)\n",
        "\n",
        "  print(\"\\n Resultados:\")\n",
        "  print(tabulate(func1['fila'], headers=headers, floatfmt=(\".0f\", \".6f\", \".6f\", \".6f\", \".6f\", \".6f\", \".6f\"), tablefmt=\"grid\"))\n",
        "\n",
        "\n",
        "  graphX = np.linspace(x0 - 3, x0 + 3, 100)\n",
        "  graphY = x_func(graphX)\n",
        "\n",
        "  plt.plot(graphX, graphY)\n",
        "  #plt.ylim(min(graphY) - 3, max(graphY) + 3)\n",
        "  plt.ylim(1, -1)\n",
        "  plt.xlim(2, 3.5)\n",
        "  plt.scatter(x1, 0, color='red')\n",
        "  plt.grid(False)\n",
        "  plt.axhline(y=0, color='gray', linestyle='--', label='y = 0')\n",
        "  plt.show()\n",
        "  print(\"Solución\",func1['valor'])\n"
      ],
      "metadata": {
        "id": "74ul2LYrnvNc"
      },
      "execution_count": 29,
      "outputs": []
    },
    {
      "cell_type": "code",
      "execution_count": 30,
      "metadata": {
        "id": "mKLEMUR94_Ku",
        "colab": {
          "base_uri": "https://localhost:8080/",
          "height": 678
        },
        "outputId": "bebf7ddb-7c42-4ba8-c6a7-a29ca6e2c6d5"
      },
      "outputs": [
        {
          "output_type": "stream",
          "name": "stdout",
          "text": [
            "\n",
            " Resultados:\n",
            "+-------------+----------+-----------+----------+-----------+----------+------------------+\n",
            "|   Iteración |     Xn-1 |   f(Xn-1) |     Xn-2 |   f(Xn-2) |       Xn |   Error relativo |\n",
            "+=============+==========+===========+==========+===========+==========+==================+\n",
            "|           0 | 2.000000 |  0.909297 | 4.000000 | -0.756802 | 3.091528 |         0.353071 |\n",
            "+-------------+----------+-----------+----------+-----------+----------+------------------+\n",
            "|           1 | 3.091528 |  0.050044 | 2.000000 |  0.909297 | 3.155100 |         0.020149 |\n",
            "+-------------+----------+-----------+----------+-----------+----------+------------------+\n",
            "|           2 | 3.155100 | -0.013507 | 3.091528 |  0.050044 | 3.141589 |         0.004301 |\n",
            "+-------------+----------+-----------+----------+-----------+----------+------------------+\n",
            "|           3 | 3.141589 |  0.000004 | 3.155100 | -0.013507 | 3.141593 |         0.000001 |\n",
            "+-------------+----------+-----------+----------+-----------+----------+------------------+\n"
          ]
        },
        {
          "output_type": "display_data",
          "data": {
            "text/plain": [
              "<Figure size 640x480 with 1 Axes>"
            ],
            "image/png": "[encoded data removed]"
          },
          "metadata": {}
        },
        {
          "output_type": "stream",
          "name": "stdout",
          "text": [
            "Solución 3.1415926537150614\n"
          ]
        }
      ],
      "source": [
        "\n",
        "ecuacion_str = 'sin(x)'#@param {type:'string'}\n",
        "x_func = equation(ecuacion_str)\n",
        "\n",
        "x0 = 2#@param {type:'number'}\n",
        "x1 = 4#@param {type:'number'}\n",
        "\n",
        "tolerancia = 0.0001#@param {type:'number'}\n",
        "selectMethod= \"secante\" #@param [\"bisection\",\"newton\",\"secante\"]\n",
        "\n",
        "if(selectMethod == \"secante\" ):\n",
        "  runSecant(x_func, x0, x1, tolerancia)"
      ]
    }
  ]
}